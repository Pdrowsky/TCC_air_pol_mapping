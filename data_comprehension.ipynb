{
 "cells": [
  {
   "cell_type": "code",
   "execution_count": 1,
   "id": "82629a30-e9f2-41d1-b279-38938e1475be",
   "metadata": {},
   "outputs": [
    {
     "name": "stdout",
     "output_type": "stream",
     "text": [
      "Requirement already satisfied: polars in c:\\users\\pedro\\desktop\\ufsc\\2024.2\\tcc\\venv_tcc\\lib\\site-packages (1.6.0)\n",
      "Note: you may need to restart the kernel to use updated packages.\n"
     ]
    },
    {
     "name": "stderr",
     "output_type": "stream",
     "text": [
      "\n",
      "[notice] A new release of pip is available: 23.2.1 -> 24.2\n",
      "[notice] To update, run: python.exe -m pip install --upgrade pip\n"
     ]
    }
   ],
   "source": [
    "%pip install polars"
   ]
  },
  {
   "cell_type": "code",
   "execution_count": 2,
   "id": "12c92bda-ae69-43f8-8a51-005a26bf192d",
   "metadata": {},
   "outputs": [],
   "source": [
    "import os\n",
    "import pandas as pd\n",
    "import polars as pl\n",
    "import glob"
   ]
  },
  {
   "cell_type": "code",
   "execution_count": 3,
   "id": "2bdbef7b-40ec-4b29-8f85-fa2771d876b8",
   "metadata": {},
   "outputs": [],
   "source": [
    "current_dir = os.getcwd()\n",
    "raw_files_path = os.path.join(current_dir, \"raw_files\\\\emissoes\")\n",
    "relatorio_emissoes = os.path.join(raw_files_path, 'relatorio_emissoes.csv')"
   ]
  },
  {
   "cell_type": "code",
   "execution_count": 4,
   "id": "07d0f149-1e8a-4c0e-bd20-0ed71fd80e3a",
   "metadata": {},
   "outputs": [],
   "source": [
    "current_dir = os.getcwd()\n",
    "pasta_cnpjs_csv = os.path.join(current_dir, \"raw_files\\\\cnpj\")\n",
    "todos_cnpj = glob.glob(os.path.join(pasta_cnpjs_csv, '*csv'))"
   ]
  },
  {
   "cell_type": "code",
   "execution_count": 5,
   "id": "a72d36c4-ee70-4f3e-ad37-0bde9062a045",
   "metadata": {},
   "outputs": [
    {
     "name": "stdout",
     "output_type": "stream",
     "text": [
      "shape: (5, 13)\n",
      "┌────────────────────┬─────────────────────────┬───────────┬────────────┬───┬──────────────────────┬────────────┬───────────────────────┬────────────────────┐\n",
      "│ CNPJ               ┆ Razão Social            ┆ Estado    ┆ Município  ┆ … ┆ Poluente emitido     ┆ Quantidade ┆ Metodologia utilizada ┆ Situação Cadastral │\n",
      "│ ---                ┆ ---                     ┆ ---       ┆ ---        ┆   ┆ ---                  ┆ ---        ┆ ---                   ┆ ---                │\n",
      "│ str                ┆ str                     ┆ str       ┆ str        ┆   ┆ str                  ┆ str        ┆ str                   ┆ str                │\n",
      "╞════════════════════╪═════════════════════════╪═══════════╪════════════╪═══╪══════════════════════╪════════════╪═══════════════════════╪════════════════════╡\n",
      "│ 00.002.114/0001-70 ┆ J L PAULO E CIA LTDA ME ┆ SAO PAULO ┆ COSMOPOLIS ┆ … ┆ Material Particulado ┆ 3.25       ┆ Estimativa            ┆ Ativa              │\n",
      "│                    ┆                         ┆           ┆            ┆   ┆ (MP)                 ┆            ┆                       ┆                    │\n",
      "│ 00.002.114/0001-70 ┆ J L PAULO E CIA LTDA ME ┆ SAO PAULO ┆ COSMOPOLIS ┆ … ┆ Material Particulado ┆ 3.25       ┆ Estimativa            ┆ Ativa              │\n",
      "│                    ┆                         ┆           ┆            ┆   ┆ (MP)                 ┆            ┆                       ┆                    │\n",
      "│ 00.002.114/0001-70 ┆ J L PAULO E CIA LTDA ME ┆ SAO PAULO ┆ COSMOPOLIS ┆ … ┆ Material Particulado ┆ 3.25       ┆ Estimativa            ┆ Ativa              │\n",
      "│                    ┆                         ┆           ┆            ┆   ┆ (MP)                 ┆            ┆                       ┆                    │\n",
      "│ 00.002.114/0001-70 ┆ J L PAULO E CIA LTDA ME ┆ SAO PAULO ┆ COSMOPOLIS ┆ … ┆ Material Particulado ┆ 2.80       ┆ Estimativa            ┆ Ativa              │\n",
      "│                    ┆                         ┆           ┆            ┆   ┆ (MP)                 ┆            ┆                       ┆                    │\n",
      "│ 00.002.114/0001-70 ┆ J L PAULO E CIA LTDA ME ┆ SAO PAULO ┆ COSMOPOLIS ┆ … ┆ Material Particulado ┆ 3.25       ┆ Estimativa            ┆ Ativa              │\n",
      "│                    ┆                         ┆           ┆            ┆   ┆ (MP)                 ┆            ┆                       ┆                    │\n",
      "└────────────────────┴─────────────────────────┴───────────┴────────────┴───┴──────────────────────┴────────────┴───────────────────────┴────────────────────┘\n"
     ]
    }
   ],
   "source": [
    "df_relatorio_emissoes = pl.read_csv(relatorio_emissoes, separator=';')\n",
    "print(df_relatorio_emissoes.head())"
   ]
  },
  {
   "cell_type": "code",
   "execution_count": 6,
   "id": "98cca6a8-d337-4fd5-802e-e0bfae191221",
   "metadata": {},
   "outputs": [
    {
     "name": "stdout",
     "output_type": "stream",
     "text": [
      "shape: (5, 15)\n",
      "┌──────────────┬─────────────────────────┬─────────────────────┬────────────────────────┬───┬────────────┬────────────┬────────────────────┬────────────────────┐\n",
      "│ CNPJ         ┆ Razão Social            ┆ Código da categoria ┆ Descrição da categoria ┆ … ┆ Latitude   ┆ Longitude  ┆ Situação cadastral ┆ Última Atualização │\n",
      "│ ---          ┆ ---                     ┆ ---                 ┆ ---                    ┆   ┆ ---        ┆ ---        ┆ ---                ┆ Relatório          │\n",
      "│ i64          ┆ str                     ┆ i64                 ┆ str                    ┆   ┆ str        ┆ str        ┆ str                ┆ ---                │\n",
      "│              ┆                         ┆                     ┆                        ┆   ┆            ┆            ┆                    ┆ str                │\n",
      "╞══════════════╪═════════════════════════╪═════════════════════╪════════════════════════╪═══╪════════════╪════════════╪════════════════════╪════════════════════╡\n",
      "│ 240681000165 ┆ FRIOS VILHENA           ┆ 18                  ┆ Transporte, Terminais, ┆ … ┆ -9,981275  ┆ -67,809894 ┆ Ativa              ┆ 01/09/2024 19:00   │\n",
      "│              ┆ IMPORTAÇÃO E EXP…       ┆                     ┆ Depósit…               ┆   ┆            ┆            ┆                    ┆                    │\n",
      "│ 240681000165 ┆ FRIOS VILHENA           ┆ 18                  ┆ Transporte, Terminais, ┆ … ┆ -9,981275  ┆ -67,809894 ┆ Ativa              ┆ 01/09/2024 19:00   │\n",
      "│              ┆ IMPORTAÇÃO E EXP…       ┆                     ┆ Depósit…               ┆   ┆            ┆            ┆                    ┆                    │\n",
      "│ 240681000165 ┆ FRIOS VILHENA           ┆ 21                  ┆ Atividades não         ┆ … ┆ -9,981275  ┆ -67,809894 ┆ Ativa              ┆ 01/09/2024 19:00   │\n",
      "│              ┆ IMPORTAÇÃO E EXP…       ┆                     ┆ relacionadas no…       ┆   ┆            ┆            ┆                    ┆                    │\n",
      "│ 240681000165 ┆ FRIOS VILHENA           ┆ 21                  ┆ Atividades não         ┆ … ┆ -9,981275  ┆ -67,809894 ┆ Ativa              ┆ 01/09/2024 19:00   │\n",
      "│              ┆ IMPORTAÇÃO E EXP…       ┆                     ┆ relacionadas no…       ┆   ┆            ┆            ┆                    ┆                    │\n",
      "│ 240681000246 ┆ FRIOS VILHENA IMP. E    ┆ 18                  ┆ Transporte, Terminais, ┆ … ┆ -11,006917 ┆ -68,7425   ┆ Ativa              ┆ 01/09/2024 19:00   │\n",
      "│              ┆ EXP. LTDA               ┆                     ┆ Depósit…               ┆   ┆            ┆            ┆                    ┆                    │\n",
      "└──────────────┴─────────────────────────┴─────────────────────┴────────────────────────┴───┴────────────┴────────────┴────────────────────┴────────────────────┘\n"
     ]
    }
   ],
   "source": [
    "dataframes = []\n",
    "\n",
    "for file in todos_cnpj:\n",
    "    df = pl.read_csv(file, separator=';')\n",
    "    dataframes.append(df)\n",
    "    \n",
    "df_todos_cnpj = pl.concat(dataframes)\n",
    "print(df_todos_cnpj.head())"
   ]
  },
  {
   "cell_type": "code",
   "execution_count": null,
   "id": "056d804a-4905-420f-90e0-d68bdd5acc64",
   "metadata": {},
   "outputs": [],
   "source": []
  }
 ],
 "metadata": {
  "kernelspec": {
   "display_name": "Python 3 (ipykernel)",
   "language": "python",
   "name": "python3"
  },
  "language_info": {
   "codemirror_mode": {
    "name": "ipython",
    "version": 3
   },
   "file_extension": ".py",
   "mimetype": "text/x-python",
   "name": "python",
   "nbconvert_exporter": "python",
   "pygments_lexer": "ipython3",
   "version": "3.12.1"
  }
 },
 "nbformat": 4,
 "nbformat_minor": 5
}
