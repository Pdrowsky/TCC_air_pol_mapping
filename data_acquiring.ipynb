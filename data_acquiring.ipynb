{
 "cells": [
  {
   "cell_type": "code",
   "execution_count": 1,
   "id": "1e8c3caf-17ae-4d06-9a2b-68468892fcec",
   "metadata": {},
   "outputs": [
    {
     "name": "stdout",
     "output_type": "stream",
     "text": [
      "Requirement already satisfied: pandas in c:\\users\\pedro\\desktop\\ufsc\\2024.2\\tcc\\venv_tcc\\lib\\site-packages (2.2.2)Note: you may need to restart the kernel to use updated packages.\n"
     ]
    },
    {
     "name": "stderr",
     "output_type": "stream",
     "text": [
      "\n",
      "[notice] A new release of pip is available: 23.2.1 -> 24.2\n",
      "[notice] To update, run: python.exe -m pip install --upgrade pip\n"
     ]
    },
    {
     "name": "stdout",
     "output_type": "stream",
     "text": [
      "\n",
      "Requirement already satisfied: numpy>=1.26.0 in c:\\users\\pedro\\desktop\\ufsc\\2024.2\\tcc\\venv_tcc\\lib\\site-packages (from pandas) (2.1.0)\n",
      "Requirement already satisfied: python-dateutil>=2.8.2 in c:\\users\\pedro\\desktop\\ufsc\\2024.2\\tcc\\venv_tcc\\lib\\site-packages (from pandas) (2.9.0.post0)\n",
      "Requirement already satisfied: pytz>=2020.1 in c:\\users\\pedro\\desktop\\ufsc\\2024.2\\tcc\\venv_tcc\\lib\\site-packages (from pandas) (2024.1)\n",
      "Requirement already satisfied: tzdata>=2022.7 in c:\\users\\pedro\\desktop\\ufsc\\2024.2\\tcc\\venv_tcc\\lib\\site-packages (from pandas) (2024.1)\n",
      "Requirement already satisfied: six>=1.5 in c:\\users\\pedro\\desktop\\ufsc\\2024.2\\tcc\\venv_tcc\\lib\\site-packages (from python-dateutil>=2.8.2->pandas) (1.16.0)\n"
     ]
    }
   ],
   "source": [
    "%pip install pandas"
   ]
  },
  {
   "cell_type": "code",
   "execution_count": 2,
   "id": "f8668e48-b42b-4c9a-b91c-6bcf354eb503",
   "metadata": {},
   "outputs": [],
   "source": [
    "import pandas as pd\n",
    "import warnings\n",
    "import requests\n",
    "import os\n",
    "from pathlib import Path\n",
    "\n",
    "# Filter out all warnings\n",
    "warnings.filterwarnings(\"ignore\")"
   ]
  },
  {
   "cell_type": "code",
   "execution_count": 3,
   "id": "f7ac39ce-b092-4b27-8bc3-4f2a25293e37",
   "metadata": {},
   "outputs": [],
   "source": [
    "html_pessoas_juridicas = 'https://dadosabertos.ibama.gov.br/dados/CTF/APP/estado/pessoasJuridicas.csv'"
   ]
  },
  {
   "cell_type": "code",
   "execution_count": 4,
   "id": "5c293a76-0f96-4329-8d28-87b6b2831cd7",
   "metadata": {},
   "outputs": [],
   "source": [
    "siglas_estados = [\n",
    "    \"AC\", \"AL\", \"AM\", \"AP\", \"BA\", \"CE\", \"DF\", \"ES\", \"GO\", \"MA\", \n",
    "    \"MG\", \"MS\", \"MT\", \"PA\", \"PB\", \"PE\", \"PI\", \"PR\", \"RJ\", \"RN\", \n",
    "    \"RO\", \"RR\", \"RS\", \"SC\", \"SE\", \"SP\", \"TO\"\n",
    "]"
   ]
  },
  {
   "cell_type": "code",
   "execution_count": 5,
   "id": "bce11de0-127c-48b9-9431-af4feb6544a3",
   "metadata": {},
   "outputs": [],
   "source": [
    "def baixar_arquivo(url, destino):\n",
    "    resposta = requests.get(url, stream=True, verify=False)\n",
    "\n",
    "    if resposta.status_code == 200:\n",
    "        with open(destino, 'wb') as arquivo:\n",
    "            for chunk in resposta.iter_content(chunk_size=8192):\n",
    "                arquivo.write(chunk)\n",
    "        print(f'Arquivo baixado com sucesso: {destino}')\n",
    "    else:\n",
    "        print(f'Falha ao baixar o arquivo: {destino}')"
   ]
  },
  {
   "cell_type": "code",
   "execution_count": 6,
   "id": "4a0ff1d2-c938-4d88-b4b4-91d188f44ca1",
   "metadata": {},
   "outputs": [],
   "source": [
    "def renomear_arquivo(origem, novo_nome):\n",
    "    _, extensao = os.path.splitext(origem)\n",
    "\n",
    "    destino = os.path.join(os.path.dirname(origem), novo_nome + extensao)\n",
    "\n",
    "    os.rename(origem, destino)\n",
    "\n",
    "    print(f'Arquivo renomeado com sucesso: {destino}')"
   ]
  },
  {
   "cell_type": "code",
   "execution_count": 7,
   "id": "fc6ccbe3-c1ee-412c-84ac-ad5b026ca558",
   "metadata": {},
   "outputs": [
    {
     "name": "stdout",
     "output_type": "stream",
     "text": [
      "Arquivo baixado com sucesso: C:\\Users\\pedro\\Desktop\\UFSC\\2024.2\\TCC\\venv_tcc\\raw_files\\cnpj\\AC.csv\n",
      "Arquivo baixado com sucesso: C:\\Users\\pedro\\Desktop\\UFSC\\2024.2\\TCC\\venv_tcc\\raw_files\\cnpj\\AL.csv\n",
      "Arquivo baixado com sucesso: C:\\Users\\pedro\\Desktop\\UFSC\\2024.2\\TCC\\venv_tcc\\raw_files\\cnpj\\AM.csv\n",
      "Arquivo baixado com sucesso: C:\\Users\\pedro\\Desktop\\UFSC\\2024.2\\TCC\\venv_tcc\\raw_files\\cnpj\\AP.csv\n",
      "Arquivo baixado com sucesso: C:\\Users\\pedro\\Desktop\\UFSC\\2024.2\\TCC\\venv_tcc\\raw_files\\cnpj\\BA.csv\n",
      "Arquivo baixado com sucesso: C:\\Users\\pedro\\Desktop\\UFSC\\2024.2\\TCC\\venv_tcc\\raw_files\\cnpj\\CE.csv\n",
      "Arquivo baixado com sucesso: C:\\Users\\pedro\\Desktop\\UFSC\\2024.2\\TCC\\venv_tcc\\raw_files\\cnpj\\DF.csv\n",
      "Arquivo baixado com sucesso: C:\\Users\\pedro\\Desktop\\UFSC\\2024.2\\TCC\\venv_tcc\\raw_files\\cnpj\\ES.csv\n",
      "Arquivo baixado com sucesso: C:\\Users\\pedro\\Desktop\\UFSC\\2024.2\\TCC\\venv_tcc\\raw_files\\cnpj\\GO.csv\n",
      "Arquivo baixado com sucesso: C:\\Users\\pedro\\Desktop\\UFSC\\2024.2\\TCC\\venv_tcc\\raw_files\\cnpj\\MA.csv\n",
      "Arquivo baixado com sucesso: C:\\Users\\pedro\\Desktop\\UFSC\\2024.2\\TCC\\venv_tcc\\raw_files\\cnpj\\MG.csv\n",
      "Arquivo baixado com sucesso: C:\\Users\\pedro\\Desktop\\UFSC\\2024.2\\TCC\\venv_tcc\\raw_files\\cnpj\\MS.csv\n",
      "Arquivo baixado com sucesso: C:\\Users\\pedro\\Desktop\\UFSC\\2024.2\\TCC\\venv_tcc\\raw_files\\cnpj\\MT.csv\n",
      "Arquivo baixado com sucesso: C:\\Users\\pedro\\Desktop\\UFSC\\2024.2\\TCC\\venv_tcc\\raw_files\\cnpj\\PA.csv\n",
      "Arquivo baixado com sucesso: C:\\Users\\pedro\\Desktop\\UFSC\\2024.2\\TCC\\venv_tcc\\raw_files\\cnpj\\PB.csv\n",
      "Arquivo baixado com sucesso: C:\\Users\\pedro\\Desktop\\UFSC\\2024.2\\TCC\\venv_tcc\\raw_files\\cnpj\\PE.csv\n",
      "Arquivo baixado com sucesso: C:\\Users\\pedro\\Desktop\\UFSC\\2024.2\\TCC\\venv_tcc\\raw_files\\cnpj\\PI.csv\n",
      "Arquivo baixado com sucesso: C:\\Users\\pedro\\Desktop\\UFSC\\2024.2\\TCC\\venv_tcc\\raw_files\\cnpj\\PR.csv\n",
      "Arquivo baixado com sucesso: C:\\Users\\pedro\\Desktop\\UFSC\\2024.2\\TCC\\venv_tcc\\raw_files\\cnpj\\RJ.csv\n",
      "Arquivo baixado com sucesso: C:\\Users\\pedro\\Desktop\\UFSC\\2024.2\\TCC\\venv_tcc\\raw_files\\cnpj\\RN.csv\n",
      "Arquivo baixado com sucesso: C:\\Users\\pedro\\Desktop\\UFSC\\2024.2\\TCC\\venv_tcc\\raw_files\\cnpj\\RO.csv\n",
      "Arquivo baixado com sucesso: C:\\Users\\pedro\\Desktop\\UFSC\\2024.2\\TCC\\venv_tcc\\raw_files\\cnpj\\RR.csv\n",
      "Arquivo baixado com sucesso: C:\\Users\\pedro\\Desktop\\UFSC\\2024.2\\TCC\\venv_tcc\\raw_files\\cnpj\\RS.csv\n",
      "Arquivo baixado com sucesso: C:\\Users\\pedro\\Desktop\\UFSC\\2024.2\\TCC\\venv_tcc\\raw_files\\cnpj\\SC.csv\n",
      "Arquivo baixado com sucesso: C:\\Users\\pedro\\Desktop\\UFSC\\2024.2\\TCC\\venv_tcc\\raw_files\\cnpj\\SE.csv\n",
      "Arquivo baixado com sucesso: C:\\Users\\pedro\\Desktop\\UFSC\\2024.2\\TCC\\venv_tcc\\raw_files\\cnpj\\SP.csv\n",
      "Arquivo baixado com sucesso: C:\\Users\\pedro\\Desktop\\UFSC\\2024.2\\TCC\\venv_tcc\\raw_files\\cnpj\\TO.csv\n"
     ]
    }
   ],
   "source": [
    "current_dir = os.getcwd()\n",
    "\n",
    "for sigla in siglas_estados:\n",
    "    raw_files_path = os.path.join(current_dir, \"raw_files\\\\cnpj\")\n",
    "    link_atual = html_pessoas_juridicas.replace('estado', sigla)\n",
    "\n",
    "    destino = os.path.join(raw_files_path, f'{sigla}.csv')\n",
    "    \n",
    "    baixar_arquivo(link_atual, destino)"
   ]
  },
  {
   "cell_type": "code",
   "execution_count": 8,
   "id": "3b1bc4aa-9be6-4252-bb39-665f927b48cc",
   "metadata": {},
   "outputs": [
    {
     "name": "stdout",
     "output_type": "stream",
     "text": [
      "Arquivo baixado com sucesso: C:\\Users\\pedro\\Desktop\\UFSC\\2024.2\\TCC\\venv_tcc\\raw_files\\emissoes\\relatorio_emissoes.csv\n"
     ]
    }
   ],
   "source": [
    "current_dir = os.getcwd()\n",
    "html_emissoes_geral = 'https://dadosabertos.ibama.gov.br/dados/RAPP/emissoesPoluentesAtmosfericos/relatorio.csv'\n",
    "\n",
    "raw_files_path = os.path.join(current_dir, \"raw_files\\\\emissoes\")\n",
    "destino = os.path.join(raw_files_path, 'relatorio_emissoes.csv')\n",
    "    \n",
    "baixar_arquivo(html_emissoes_geral, destino)"
   ]
  },
  {
   "cell_type": "code",
   "execution_count": null,
   "id": "ca410358-9363-4d6c-9076-d7102adff01a",
   "metadata": {},
   "outputs": [],
   "source": []
  }
 ],
 "metadata": {
  "kernelspec": {
   "display_name": "Python 3 (ipykernel)",
   "language": "python",
   "name": "python3"
  },
  "language_info": {
   "codemirror_mode": {
    "name": "ipython",
    "version": 3
   },
   "file_extension": ".py",
   "mimetype": "text/x-python",
   "name": "python",
   "nbconvert_exporter": "python",
   "pygments_lexer": "ipython3",
   "version": "3.12.1"
  }
 },
 "nbformat": 4,
 "nbformat_minor": 5
}
